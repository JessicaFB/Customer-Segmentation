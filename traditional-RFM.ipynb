{
 "cells": [
  {
   "cell_type": "markdown",
   "metadata": {
    "toc": true
   },
   "source": [
    "<h1>Table of Contents<span class=\"tocSkip\"></span></h1>\n",
    "<div class=\"toc\"><ul class=\"toc-item\"><li><span><a href=\"#Separate-Into-Quantiles\" data-toc-modified-id=\"Separate-Into-Quantiles-1\"><span class=\"toc-item-num\">1&nbsp;&nbsp;</span>Separate Into Quantiles</a></span></li></ul></div>"
   ]
  },
  {
   "cell_type": "markdown",
   "metadata": {},
   "source": [
    "### Separate Into Quantiles\n",
    "\n",
    "We will split into 4 quantiles, or quartiles, which is common for RFM analyses. We can always test other quantile splits to see if we're able to gain any further insights or more true/optimized segments of our customers.\n",
    "\n",
    "For now, we will split into 4. "
   ]
  },
  {
   "cell_type": "code",
   "execution_count": 2,
   "metadata": {},
   "outputs": [],
   "source": [
    "# Split into 4 quantiles, which is standard for RFM analyses, we can always \n",
    "quantiles = rfm_scale_log.quantile(q=[0.25, 0.5, 0.75])\n",
    "quantiles = quantiles.to_dict()\n",
    "quantiles"
   ]
  },
  {
   "cell_type": "code",
   "execution_count": null,
   "metadata": {},
   "outputs": [],
   "source": [
    "# Create copy to add quantiles to\n",
    "segmented_rfm_scores = rfm_scale_log\n",
    "segmented_rfm_scores.head()"
   ]
  },
  {
   "cell_type": "markdown",
   "metadata": {},
   "source": [
    "We will now assign the RFM scores. For recency, we want the most recent, so the most recent will be ranked as our #1 customer. For frequency and monetary value, we want the highest, so the 4th quantile will be our #1 customer. "
   ]
  },
  {
   "cell_type": "code",
   "execution_count": null,
   "metadata": {},
   "outputs": [],
   "source": [
    "# Define functions to calculate R, F & M\n",
    "# x = value\n",
    "# p = recency, monetary_value, frequency\n",
    "# d = quantiles dictionary\n",
    "\n",
    "def r_score(x,p,d):\n",
    "    if x <= d[p][0.25]:\n",
    "        return 4\n",
    "    elif x <= d[p][0.5]:\n",
    "        return 3\n",
    "    elif x<= d[p][0.75]:\n",
    "        return 2\n",
    "    else:\n",
    "        return 1\n",
    "    \n",
    "def fm_score(x,p,d):\n",
    "    if x <= d[p][0.25]:\n",
    "        return 1\n",
    "    elif x <= d[p][0.5]:\n",
    "        return 2\n",
    "    elif x<= d[p][0.75]:\n",
    "        return 3\n",
    "    else:\n",
    "        return 4"
   ]
  },
  {
   "cell_type": "code",
   "execution_count": null,
   "metadata": {},
   "outputs": [],
   "source": [
    "# Apply functions\n",
    "\n",
    "# Recency\n",
    "segmented_rfm_scores['r_quantile'] = segmented_rfm_scores['recency'].apply(\n",
    "    r_score, args = ('recency', quantiles,)\n",
    ")\n",
    "\n",
    "# Frequency\n",
    "segmented_rfm_scores['f_quantile'] = segmented_rfm_scores['frequency'].apply(\n",
    "    fm_score, args = ('frequency', quantiles,)\n",
    ")\n",
    "\n",
    "# Monetary Value\n",
    "segmented_rfm_scores['m_quantile'] = segmented_rfm_scores['monetary_value'].apply(\n",
    "    fm_score, args = ('monetary_value', quantiles,)\n",
    ")\n",
    "\n",
    "# Average Order Value\n",
    "segmented_rfm_scores['aov_quantile'] = segmented_rfm_scores['monetary_value'].apply(\n",
    "    fm_score, args = ('aov', quantiles,)\n",
    ")"
   ]
  },
  {
   "cell_type": "code",
   "execution_count": null,
   "metadata": {},
   "outputs": [],
   "source": [
    "# Preview new df\n",
    "segmented_rfm_scores.sort_values(by='m_quantile').head()"
   ]
  },
  {
   "cell_type": "code",
   "execution_count": null,
   "metadata": {},
   "outputs": [],
   "source": [
    "from sklearn.cluster import KMeans\n",
    "\n",
    "# Within-cluster sum of the squared residuals\n",
    "wcss = []\n",
    "for i in range(0, 11):\n",
    "    kmeans = KMeans(n_clusters=i+1, random_state=44).fit(segmented_rfm_scores.iloc[:,3:])\n",
    "    wcss.append(kmeans.inertia_)\n",
    "    \n",
    "# Plot\n",
    "sns.pointplot(x=list(range(0, 11)), y=wcss)\n",
    "plt.title('Elbow Plot - RFM')\n",
    "plt.xlabel('Number of Clusters')\n",
    "plt.ylabel('WCSS')\n",
    "plt.show()"
   ]
  }
 ],
 "metadata": {
  "kernelspec": {
   "display_name": "Python [conda env:learn-env] *",
   "language": "python",
   "name": "conda-env-learn-env-py"
  },
  "language_info": {
   "codemirror_mode": {
    "name": "ipython",
    "version": 3
   },
   "file_extension": ".py",
   "mimetype": "text/x-python",
   "name": "python",
   "nbconvert_exporter": "python",
   "pygments_lexer": "ipython3",
   "version": "3.6.9"
  },
  "toc": {
   "base_numbering": 1,
   "nav_menu": {},
   "number_sections": true,
   "sideBar": true,
   "skip_h1_title": false,
   "title_cell": "Table of Contents",
   "title_sidebar": "Contents",
   "toc_cell": true,
   "toc_position": {},
   "toc_section_display": true,
   "toc_window_display": false
  }
 },
 "nbformat": 4,
 "nbformat_minor": 2
}
