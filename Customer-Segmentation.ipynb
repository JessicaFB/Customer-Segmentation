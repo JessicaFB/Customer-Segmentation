{
 "cells": [
  {
   "cell_type": "markdown",
   "metadata": {
    "toc": true
   },
   "source": [
    "<h1>Table of Contents<span class=\"tocSkip\"></span></h1>\n",
    "<div class=\"toc\"><ul class=\"toc-item\"><li><span><a href=\"#Intro\" data-toc-modified-id=\"Intro-1\"><span class=\"toc-item-num\">1&nbsp;&nbsp;</span>Intro</a></span></li><li><span><a href=\"#Import-Packages-+-Data\" data-toc-modified-id=\"Import-Packages-+-Data-2\"><span class=\"toc-item-num\">2&nbsp;&nbsp;</span>Import Packages + Data</a></span></li><li><span><a href=\"#Explore-+-Clean-Data\" data-toc-modified-id=\"Explore-+-Clean-Data-3\"><span class=\"toc-item-num\">3&nbsp;&nbsp;</span>Explore + Clean Data</a></span><ul class=\"toc-item\"><li><span><a href=\"#Explore-Country-Metrics\" data-toc-modified-id=\"Explore-Country-Metrics-3.1\"><span class=\"toc-item-num\">3.1&nbsp;&nbsp;</span>Explore Country Metrics</a></span></li><li><span><a href=\"#Check-For-Null-Values\" data-toc-modified-id=\"Check-For-Null-Values-3.2\"><span class=\"toc-item-num\">3.2&nbsp;&nbsp;</span>Check For Null Values</a></span></li><li><span><a href=\"#Check-For-Duplicates\" data-toc-modified-id=\"Check-For-Duplicates-3.3\"><span class=\"toc-item-num\">3.3&nbsp;&nbsp;</span>Check For Duplicates</a></span></li><li><span><a href=\"#Cancelled-Orders\" data-toc-modified-id=\"Cancelled-Orders-3.4\"><span class=\"toc-item-num\">3.4&nbsp;&nbsp;</span>Cancelled Orders</a></span></li><li><span><a href=\"#RMF-Variables\" data-toc-modified-id=\"RMF-Variables-3.5\"><span class=\"toc-item-num\">3.5&nbsp;&nbsp;</span>RMF Variables</a></span></li><li><span><a href=\"#Summary-Statistics\" data-toc-modified-id=\"Summary-Statistics-3.6\"><span class=\"toc-item-num\">3.6&nbsp;&nbsp;</span>Summary Statistics</a></span></li><li><span><a href=\"#Add-TotalPrice-Column\" data-toc-modified-id=\"Add-TotalPrice-Column-3.7\"><span class=\"toc-item-num\">3.7&nbsp;&nbsp;</span>Add TotalPrice Column</a></span></li><li><span><a href=\"#Remove-Outliers\" data-toc-modified-id=\"Remove-Outliers-3.8\"><span class=\"toc-item-num\">3.8&nbsp;&nbsp;</span>Remove Outliers</a></span></li></ul></li><li><span><a href=\"#Future-Work\" data-toc-modified-id=\"Future-Work-4\"><span class=\"toc-item-num\">4&nbsp;&nbsp;</span>Future Work</a></span></li></ul></div>"
   ]
  },
  {
   "cell_type": "markdown",
   "metadata": {},
   "source": [
    "# Intro\n",
    "\n",
    "We're going to do an RFM analysis. RFM stands for Recency, Frequency and Monetary Value. We are then going to segment customers based on rankings in these three categories. We will use K-Means Clustering to segment the customers. By having these groups identified, we can target our marketing efforts with customers to increase revenue while retaining customers. (Add detail with this.)\n",
    "\n",
    "**Recency** is how recently a customer made a purchase. \n",
    "\n",
    "**Frequency** is how often a customer makes a purchase. \n",
    "\n",
    "**Monetary** Value represents the amount of money a customer spent in a given time. "
   ]
  },
  {
   "cell_type": "markdown",
   "metadata": {},
   "source": [
    "# Import Packages + Data"
   ]
  },
  {
   "cell_type": "code",
   "execution_count": 1,
   "metadata": {},
   "outputs": [],
   "source": [
    "# Import packages\n",
    "\n",
    "import pandas as pd\n",
    "import numpy as np\n",
    "import matplotlib.pyplot as plt\n",
    "import seaborn as sns\n",
    "%matplotlib inline"
   ]
  },
  {
   "cell_type": "code",
   "execution_count": 2,
   "metadata": {},
   "outputs": [
    {
     "data": {
      "text/html": [
       "<div>\n",
       "<style scoped>\n",
       "    .dataframe tbody tr th:only-of-type {\n",
       "        vertical-align: middle;\n",
       "    }\n",
       "\n",
       "    .dataframe tbody tr th {\n",
       "        vertical-align: top;\n",
       "    }\n",
       "\n",
       "    .dataframe thead th {\n",
       "        text-align: right;\n",
       "    }\n",
       "</style>\n",
       "<table border=\"1\" class=\"dataframe\">\n",
       "  <thead>\n",
       "    <tr style=\"text-align: right;\">\n",
       "      <th></th>\n",
       "      <th>InvoiceNo</th>\n",
       "      <th>StockCode</th>\n",
       "      <th>Description</th>\n",
       "      <th>Quantity</th>\n",
       "      <th>InvoiceDate</th>\n",
       "      <th>UnitPrice</th>\n",
       "      <th>CustomerID</th>\n",
       "      <th>Country</th>\n",
       "    </tr>\n",
       "  </thead>\n",
       "  <tbody>\n",
       "    <tr>\n",
       "      <td>0</td>\n",
       "      <td>536365</td>\n",
       "      <td>85123A</td>\n",
       "      <td>WHITE HANGING HEART T-LIGHT HOLDER</td>\n",
       "      <td>6</td>\n",
       "      <td>2010-12-01 08:26:00</td>\n",
       "      <td>2.55</td>\n",
       "      <td>17850.0</td>\n",
       "      <td>United Kingdom</td>\n",
       "    </tr>\n",
       "    <tr>\n",
       "      <td>1</td>\n",
       "      <td>536365</td>\n",
       "      <td>71053</td>\n",
       "      <td>WHITE METAL LANTERN</td>\n",
       "      <td>6</td>\n",
       "      <td>2010-12-01 08:26:00</td>\n",
       "      <td>3.39</td>\n",
       "      <td>17850.0</td>\n",
       "      <td>United Kingdom</td>\n",
       "    </tr>\n",
       "    <tr>\n",
       "      <td>2</td>\n",
       "      <td>536365</td>\n",
       "      <td>84406B</td>\n",
       "      <td>CREAM CUPID HEARTS COAT HANGER</td>\n",
       "      <td>8</td>\n",
       "      <td>2010-12-01 08:26:00</td>\n",
       "      <td>2.75</td>\n",
       "      <td>17850.0</td>\n",
       "      <td>United Kingdom</td>\n",
       "    </tr>\n",
       "    <tr>\n",
       "      <td>3</td>\n",
       "      <td>536365</td>\n",
       "      <td>84029G</td>\n",
       "      <td>KNITTED UNION FLAG HOT WATER BOTTLE</td>\n",
       "      <td>6</td>\n",
       "      <td>2010-12-01 08:26:00</td>\n",
       "      <td>3.39</td>\n",
       "      <td>17850.0</td>\n",
       "      <td>United Kingdom</td>\n",
       "    </tr>\n",
       "    <tr>\n",
       "      <td>4</td>\n",
       "      <td>536365</td>\n",
       "      <td>84029E</td>\n",
       "      <td>RED WOOLLY HOTTIE WHITE HEART.</td>\n",
       "      <td>6</td>\n",
       "      <td>2010-12-01 08:26:00</td>\n",
       "      <td>3.39</td>\n",
       "      <td>17850.0</td>\n",
       "      <td>United Kingdom</td>\n",
       "    </tr>\n",
       "  </tbody>\n",
       "</table>\n",
       "</div>"
      ],
      "text/plain": [
       "  InvoiceNo StockCode                          Description  Quantity  \\\n",
       "0    536365    85123A   WHITE HANGING HEART T-LIGHT HOLDER         6   \n",
       "1    536365     71053                  WHITE METAL LANTERN         6   \n",
       "2    536365    84406B       CREAM CUPID HEARTS COAT HANGER         8   \n",
       "3    536365    84029G  KNITTED UNION FLAG HOT WATER BOTTLE         6   \n",
       "4    536365    84029E       RED WOOLLY HOTTIE WHITE HEART.         6   \n",
       "\n",
       "          InvoiceDate  UnitPrice  CustomerID         Country  \n",
       "0 2010-12-01 08:26:00       2.55     17850.0  United Kingdom  \n",
       "1 2010-12-01 08:26:00       3.39     17850.0  United Kingdom  \n",
       "2 2010-12-01 08:26:00       2.75     17850.0  United Kingdom  \n",
       "3 2010-12-01 08:26:00       3.39     17850.0  United Kingdom  \n",
       "4 2010-12-01 08:26:00       3.39     17850.0  United Kingdom  "
      ]
     },
     "execution_count": 2,
     "metadata": {},
     "output_type": "execute_result"
    }
   ],
   "source": [
    "# Import data & convert to df\n",
    "data = pd.read_excel('Data/Online_Retail.xlsx')\n",
    "df = pd.DataFrame(data)\n",
    "\n",
    "# Preview\n",
    "df.head()"
   ]
  },
  {
   "cell_type": "markdown",
   "metadata": {},
   "source": [
    "We can see here there are multiple items and quantities purchased on each invoice. I will create another column that shows total spent on each item, so Quantity * UnitPrice. That way we can group by invoice number, customer, etc. and see the total they spent per invoice and item.\n",
    "\n",
    "We're also going to be adding Recency, Frequency and Monetary columns so we can conduct an RMF analysis and segment customers that way as well. \n",
    "\n",
    "Let's take a look at some of the basics before we hop into it. "
   ]
  },
  {
   "cell_type": "markdown",
   "metadata": {},
   "source": [
    "# Explore + Clean Data"
   ]
  },
  {
   "cell_type": "code",
   "execution_count": 3,
   "metadata": {},
   "outputs": [
    {
     "name": "stdout",
     "output_type": "stream",
     "text": [
      "<class 'pandas.core.frame.DataFrame'>\n",
      "RangeIndex: 541909 entries, 0 to 541908\n",
      "Data columns (total 8 columns):\n",
      "InvoiceNo      541909 non-null object\n",
      "StockCode      541909 non-null object\n",
      "Description    540455 non-null object\n",
      "Quantity       541909 non-null int64\n",
      "InvoiceDate    541909 non-null datetime64[ns]\n",
      "UnitPrice      541909 non-null float64\n",
      "CustomerID     406829 non-null float64\n",
      "Country        541909 non-null object\n",
      "dtypes: datetime64[ns](1), float64(2), int64(1), object(4)\n",
      "memory usage: 33.1+ MB\n"
     ]
    }
   ],
   "source": [
    "# Info\n",
    "df.info()"
   ]
  },
  {
   "cell_type": "markdown",
   "metadata": {},
   "source": [
    "**InvoiceNo** is currently an object. I'm going to change that to an integer so we'll be able to group by invoice number. \n",
    "\n",
    "**StockCode** can stay an object, I'm guessing it's a string. \n",
    "\n",
    "It's great that **InvoiceDate** is already in datetime format, because we can peak at some time series in the EDA to see if we can collect any further insights. "
   ]
  },
  {
   "cell_type": "markdown",
   "metadata": {},
   "source": [
    "## Explore Country Metrics\n",
    "\n",
    "How many countries are there?"
   ]
  },
  {
   "cell_type": "code",
   "execution_count": 4,
   "metadata": {},
   "outputs": [
    {
     "data": {
      "text/plain": [
       "38"
      ]
     },
     "execution_count": 4,
     "metadata": {},
     "output_type": "execute_result"
    }
   ],
   "source": [
    "len(df.Country.unique())"
   ]
  },
  {
   "cell_type": "markdown",
   "metadata": {},
   "source": [
    "How many unique customers per country?"
   ]
  },
  {
   "cell_type": "code",
   "execution_count": 74,
   "metadata": {},
   "outputs": [
    {
     "data": {
      "text/plain": [
       "Country\n",
       "United Kingdom     3950\n",
       "Germany              95\n",
       "France               87\n",
       "Spain                31\n",
       "Belgium              25\n",
       "Switzerland          21\n",
       "Portugal             19\n",
       "Italy                15\n",
       "Finland              12\n",
       "Austria              11\n",
       "Norway               10\n",
       "Channel Islands       9\n",
       "Netherlands           9\n",
       "Denmark               9\n",
       "Australia             9\n",
       "Cyprus                8\n",
       "Sweden                8\n",
       "Japan                 8\n",
       "Poland                6\n",
       "Canada                4\n",
       "Name: CustomerID, dtype: int64"
      ]
     },
     "execution_count": 74,
     "metadata": {},
     "output_type": "execute_result"
    }
   ],
   "source": [
    "# Preview first 20 (out of 38)\n",
    "df.groupby(['Country'])['CustomerID'].nunique().sort_values(ascending=False).head(20)"
   ]
  },
  {
   "cell_type": "markdown",
   "metadata": {},
   "source": [
    "We can see the UK has the most customers by a lot. Now I'm curious to see which countries have NaN values for CustomerID.\n",
    "\n",
    "Another thing to note is that most of the orders come from the UK. Since this is an online retailer, and upon further exploration of the dataset, it seems perhaps a wholesaler (large volume orders, similar style products e.g. plates, napkins, lunch bags, doilies, etc. with different lines), we will explore customers from all countries. This is most likely a B2B online retailer, so its customers are more niche than general. For all of these reasons, we will keep data from all countries. We can always come back and index just the UK if we'd like to."
   ]
  },
  {
   "cell_type": "code",
   "execution_count": 111,
   "metadata": {},
   "outputs": [
    {
     "data": {
      "text/plain": [
       "Country\n",
       "United Kingdom    133600\n",
       "EIRE                 711\n",
       "Hong Kong            288\n",
       "Unspecified          202\n",
       "Switzerland          125\n",
       "France                66\n",
       "Israel                47\n",
       "Portugal              39\n",
       "Bahrain                2\n",
       "dtype: int64"
      ]
     },
     "execution_count": 111,
     "metadata": {},
     "output_type": "execute_result"
    }
   ],
   "source": [
    "# NaN CustomerID field for a given item in an order (out of ~500K)\n",
    "df[df.CustomerID.isnull() == True].groupby(['Country']).size().sort_values(ascending = False)\n"
   ]
  },
  {
   "cell_type": "markdown",
   "metadata": {},
   "source": [
    "It looks like the CustomerID column with NaN values for some orders are distributed pretty evenly. This could be calculated precisely, however its effect doesn't seem to be isolated to any particular country. It's much higher for the United Kingdom, however the UK also has the most instances overall by a significant amount. "
   ]
  },
  {
   "cell_type": "markdown",
   "metadata": {},
   "source": [
    "## Check For Null Values"
   ]
  },
  {
   "cell_type": "code",
   "execution_count": 116,
   "metadata": {},
   "outputs": [
    {
     "data": {
      "text/plain": [
       "InvoiceNo           0\n",
       "StockCode           0\n",
       "Description      1454\n",
       "Quantity            0\n",
       "InvoiceDate         0\n",
       "UnitPrice           0\n",
       "CustomerID     135080\n",
       "Country             0\n",
       "dtype: int64"
      ]
     },
     "execution_count": 116,
     "metadata": {},
     "output_type": "execute_result"
    }
   ],
   "source": [
    "# Check for missing values\n",
    "\n",
    "df.isnull().sum()"
   ]
  },
  {
   "cell_type": "markdown",
   "metadata": {},
   "source": [
    "It looks like we have a good amount of Null values for **CustomerID** and **Description**. Let's see how much of the total this accounts for."
   ]
  },
  {
   "cell_type": "code",
   "execution_count": 117,
   "metadata": {},
   "outputs": [
    {
     "name": "stdout",
     "output_type": "stream",
     "text": [
      "Description Percent Null Values:\n",
      "0.2683 % \n",
      "\n",
      "CustomerID Percent Null Values:\n",
      "24.9267 % \n",
      "\n",
      "==============================\n"
     ]
    }
   ],
   "source": [
    "# Description\n",
    "print('Description Percent Null Values:')\n",
    "print(f\"{((df.Description.isnull().sum())/len(df.Description)*100).round(4)} % \\n\")\n",
    "\n",
    "# CustomerID\n",
    "print('CustomerID Percent Null Values:')\n",
    "print(f\"{((df.CustomerID.isnull().sum())/len(df.CustomerID)*100).round(4)} % \\n\")\n",
    "\n",
    "print('==============================')"
   ]
  },
  {
   "cell_type": "markdown",
   "metadata": {},
   "source": [
    "The number of missing values for the **Description** column is small, however for the **CustomerID** column it is large at almost 25%. I'm curious how many customers there were. Let's take a look at the number of unique values."
   ]
  },
  {
   "cell_type": "code",
   "execution_count": 118,
   "metadata": {},
   "outputs": [
    {
     "name": "stdout",
     "output_type": "stream",
     "text": [
      "No. of unique CustomerIDs: \n",
      "4372\n"
     ]
    }
   ],
   "source": [
    "# Unique CustomerIDs\n",
    "\n",
    "print(f'No. of unique CustomerIDs: \\n{len(df.CustomerID.value_counts())}')"
   ]
  },
  {
   "cell_type": "markdown",
   "metadata": {},
   "source": [
    "Since we still have data from over 4,300 customers, and we don't have any way of identifying the customers with the Null **CustomerID** field, it only makes sense to remove them. \n",
    "\n",
    "Since this is an RMF Analysis, we don't require the product descriptions. However, for future work in identifying any trends of products and categories each group desires, we would require this information. For such an analysis we could impute or simply drop as it represents only a fraction of a percent of the dataset."
   ]
  },
  {
   "cell_type": "code",
   "execution_count": 119,
   "metadata": {},
   "outputs": [],
   "source": [
    "# Drop rows w/null fields\n",
    "df = df[df['CustomerID'].notna()]"
   ]
  },
  {
   "cell_type": "code",
   "execution_count": 120,
   "metadata": {},
   "outputs": [
    {
     "data": {
      "text/plain": [
       "InvoiceNo      0\n",
       "StockCode      0\n",
       "Description    0\n",
       "Quantity       0\n",
       "InvoiceDate    0\n",
       "UnitPrice      0\n",
       "CustomerID     0\n",
       "Country        0\n",
       "dtype: int64"
      ]
     },
     "execution_count": 120,
     "metadata": {},
     "output_type": "execute_result"
    }
   ],
   "source": [
    "df.isnull().sum()"
   ]
  },
  {
   "cell_type": "markdown",
   "metadata": {},
   "source": [
    "It looks like dropping the null CustomerID data also removed the null Descriptions data. Well that worked out perfectly. \n",
    "\n",
    "I'm curious if the nulls were from any particular country, as almost 25% of the data had nulls, this is a significant amount of data and does have the potential to skew the true RMF data for a customer. "
   ]
  },
  {
   "cell_type": "markdown",
   "metadata": {},
   "source": [
    "## Check For Duplicates"
   ]
  },
  {
   "cell_type": "code",
   "execution_count": 126,
   "metadata": {},
   "outputs": [
    {
     "data": {
      "text/html": [
       "<div>\n",
       "<style scoped>\n",
       "    .dataframe tbody tr th:only-of-type {\n",
       "        vertical-align: middle;\n",
       "    }\n",
       "\n",
       "    .dataframe tbody tr th {\n",
       "        vertical-align: top;\n",
       "    }\n",
       "\n",
       "    .dataframe thead th {\n",
       "        text-align: right;\n",
       "    }\n",
       "</style>\n",
       "<table border=\"1\" class=\"dataframe\">\n",
       "  <thead>\n",
       "    <tr style=\"text-align: right;\">\n",
       "      <th></th>\n",
       "      <th>InvoiceNo</th>\n",
       "      <th>StockCode</th>\n",
       "      <th>Description</th>\n",
       "      <th>Quantity</th>\n",
       "      <th>InvoiceDate</th>\n",
       "      <th>UnitPrice</th>\n",
       "      <th>CustomerID</th>\n",
       "      <th>Country</th>\n",
       "    </tr>\n",
       "  </thead>\n",
       "  <tbody>\n",
       "    <tr>\n",
       "      <td>517</td>\n",
       "      <td>536409</td>\n",
       "      <td>21866</td>\n",
       "      <td>UNION JACK FLAG LUGGAGE TAG</td>\n",
       "      <td>1</td>\n",
       "      <td>2010-12-01 11:45:00</td>\n",
       "      <td>1.25</td>\n",
       "      <td>17908.0</td>\n",
       "      <td>United Kingdom</td>\n",
       "    </tr>\n",
       "    <tr>\n",
       "      <td>527</td>\n",
       "      <td>536409</td>\n",
       "      <td>22866</td>\n",
       "      <td>HAND WARMER SCOTTY DOG DESIGN</td>\n",
       "      <td>1</td>\n",
       "      <td>2010-12-01 11:45:00</td>\n",
       "      <td>2.10</td>\n",
       "      <td>17908.0</td>\n",
       "      <td>United Kingdom</td>\n",
       "    </tr>\n",
       "    <tr>\n",
       "      <td>537</td>\n",
       "      <td>536409</td>\n",
       "      <td>22900</td>\n",
       "      <td>SET 2 TEA TOWELS I LOVE LONDON</td>\n",
       "      <td>1</td>\n",
       "      <td>2010-12-01 11:45:00</td>\n",
       "      <td>2.95</td>\n",
       "      <td>17908.0</td>\n",
       "      <td>United Kingdom</td>\n",
       "    </tr>\n",
       "    <tr>\n",
       "      <td>539</td>\n",
       "      <td>536409</td>\n",
       "      <td>22111</td>\n",
       "      <td>SCOTTIE DOG HOT WATER BOTTLE</td>\n",
       "      <td>1</td>\n",
       "      <td>2010-12-01 11:45:00</td>\n",
       "      <td>4.95</td>\n",
       "      <td>17908.0</td>\n",
       "      <td>United Kingdom</td>\n",
       "    </tr>\n",
       "    <tr>\n",
       "      <td>555</td>\n",
       "      <td>536412</td>\n",
       "      <td>22327</td>\n",
       "      <td>ROUND SNACK BOXES SET OF 4 SKULLS</td>\n",
       "      <td>1</td>\n",
       "      <td>2010-12-01 11:49:00</td>\n",
       "      <td>2.95</td>\n",
       "      <td>17920.0</td>\n",
       "      <td>United Kingdom</td>\n",
       "    </tr>\n",
       "  </tbody>\n",
       "</table>\n",
       "</div>"
      ],
      "text/plain": [
       "    InvoiceNo StockCode                        Description  Quantity  \\\n",
       "517    536409     21866        UNION JACK FLAG LUGGAGE TAG         1   \n",
       "527    536409     22866      HAND WARMER SCOTTY DOG DESIGN         1   \n",
       "537    536409     22900    SET 2 TEA TOWELS I LOVE LONDON          1   \n",
       "539    536409     22111       SCOTTIE DOG HOT WATER BOTTLE         1   \n",
       "555    536412     22327  ROUND SNACK BOXES SET OF 4 SKULLS         1   \n",
       "\n",
       "            InvoiceDate  UnitPrice  CustomerID         Country  \n",
       "517 2010-12-01 11:45:00       1.25     17908.0  United Kingdom  \n",
       "527 2010-12-01 11:45:00       2.10     17908.0  United Kingdom  \n",
       "537 2010-12-01 11:45:00       2.95     17908.0  United Kingdom  \n",
       "539 2010-12-01 11:45:00       4.95     17908.0  United Kingdom  \n",
       "555 2010-12-01 11:49:00       2.95     17920.0  United Kingdom  "
      ]
     },
     "metadata": {},
     "output_type": "display_data"
    },
    {
     "data": {
      "text/html": [
       "<div>\n",
       "<style scoped>\n",
       "    .dataframe tbody tr th:only-of-type {\n",
       "        vertical-align: middle;\n",
       "    }\n",
       "\n",
       "    .dataframe tbody tr th {\n",
       "        vertical-align: top;\n",
       "    }\n",
       "\n",
       "    .dataframe thead th {\n",
       "        text-align: right;\n",
       "    }\n",
       "</style>\n",
       "<table border=\"1\" class=\"dataframe\">\n",
       "  <thead>\n",
       "    <tr style=\"text-align: right;\">\n",
       "      <th></th>\n",
       "      <th>InvoiceNo</th>\n",
       "      <th>StockCode</th>\n",
       "      <th>Description</th>\n",
       "      <th>Quantity</th>\n",
       "      <th>InvoiceDate</th>\n",
       "      <th>UnitPrice</th>\n",
       "      <th>CustomerID</th>\n",
       "      <th>Country</th>\n",
       "    </tr>\n",
       "  </thead>\n",
       "  <tbody>\n",
       "    <tr>\n",
       "      <td>541675</td>\n",
       "      <td>581538</td>\n",
       "      <td>22068</td>\n",
       "      <td>BLACK PIRATE TREASURE CHEST</td>\n",
       "      <td>1</td>\n",
       "      <td>2011-12-09 11:34:00</td>\n",
       "      <td>0.39</td>\n",
       "      <td>14446.0</td>\n",
       "      <td>United Kingdom</td>\n",
       "    </tr>\n",
       "    <tr>\n",
       "      <td>541689</td>\n",
       "      <td>581538</td>\n",
       "      <td>23318</td>\n",
       "      <td>BOX OF 6 MINI VINTAGE CRACKERS</td>\n",
       "      <td>1</td>\n",
       "      <td>2011-12-09 11:34:00</td>\n",
       "      <td>2.49</td>\n",
       "      <td>14446.0</td>\n",
       "      <td>United Kingdom</td>\n",
       "    </tr>\n",
       "    <tr>\n",
       "      <td>541692</td>\n",
       "      <td>581538</td>\n",
       "      <td>22992</td>\n",
       "      <td>REVOLVER WOODEN RULER</td>\n",
       "      <td>1</td>\n",
       "      <td>2011-12-09 11:34:00</td>\n",
       "      <td>1.95</td>\n",
       "      <td>14446.0</td>\n",
       "      <td>United Kingdom</td>\n",
       "    </tr>\n",
       "    <tr>\n",
       "      <td>541699</td>\n",
       "      <td>581538</td>\n",
       "      <td>22694</td>\n",
       "      <td>WICKER STAR</td>\n",
       "      <td>1</td>\n",
       "      <td>2011-12-09 11:34:00</td>\n",
       "      <td>2.10</td>\n",
       "      <td>14446.0</td>\n",
       "      <td>United Kingdom</td>\n",
       "    </tr>\n",
       "    <tr>\n",
       "      <td>541701</td>\n",
       "      <td>581538</td>\n",
       "      <td>23343</td>\n",
       "      <td>JUMBO BAG VINTAGE CHRISTMAS</td>\n",
       "      <td>1</td>\n",
       "      <td>2011-12-09 11:34:00</td>\n",
       "      <td>2.08</td>\n",
       "      <td>14446.0</td>\n",
       "      <td>United Kingdom</td>\n",
       "    </tr>\n",
       "  </tbody>\n",
       "</table>\n",
       "</div>"
      ],
      "text/plain": [
       "       InvoiceNo StockCode                     Description  Quantity  \\\n",
       "541675    581538     22068     BLACK PIRATE TREASURE CHEST         1   \n",
       "541689    581538     23318  BOX OF 6 MINI VINTAGE CRACKERS         1   \n",
       "541692    581538     22992          REVOLVER WOODEN RULER          1   \n",
       "541699    581538     22694                    WICKER STAR          1   \n",
       "541701    581538     23343    JUMBO BAG VINTAGE CHRISTMAS          1   \n",
       "\n",
       "               InvoiceDate  UnitPrice  CustomerID         Country  \n",
       "541675 2011-12-09 11:34:00       0.39     14446.0  United Kingdom  \n",
       "541689 2011-12-09 11:34:00       2.49     14446.0  United Kingdom  \n",
       "541692 2011-12-09 11:34:00       1.95     14446.0  United Kingdom  \n",
       "541699 2011-12-09 11:34:00       2.10     14446.0  United Kingdom  \n",
       "541701 2011-12-09 11:34:00       2.08     14446.0  United Kingdom  "
      ]
     },
     "metadata": {},
     "output_type": "display_data"
    }
   ],
   "source": [
    "# Preview duplicates\n",
    "display(df[df.duplicated()].head())\n",
    "display(df[df.duplicated()].tail())"
   ]
  },
  {
   "cell_type": "markdown",
   "metadata": {},
   "source": [
    "We're essentially just looking at the head and the tail, however I don't see any duplicates. Let's take a closer look."
   ]
  },
  {
   "cell_type": "code",
   "execution_count": 130,
   "metadata": {},
   "outputs": [
    {
     "data": {
      "text/plain": [
       "612    False\n",
       "613    False\n",
       "614    False\n",
       "615    False\n",
       "616     True\n",
       "617     True\n",
       "618     True\n",
       "619    False\n",
       "620     True\n",
       "621    False\n",
       "dtype: bool"
      ]
     },
     "execution_count": 130,
     "metadata": {},
     "output_type": "execute_result"
    }
   ],
   "source": [
    "df[df.InvoiceNo == 536412].duplicated().tail(10)"
   ]
  },
  {
   "cell_type": "code",
   "execution_count": 131,
   "metadata": {},
   "outputs": [
    {
     "data": {
      "text/html": [
       "<div>\n",
       "<style scoped>\n",
       "    .dataframe tbody tr th:only-of-type {\n",
       "        vertical-align: middle;\n",
       "    }\n",
       "\n",
       "    .dataframe tbody tr th {\n",
       "        vertical-align: top;\n",
       "    }\n",
       "\n",
       "    .dataframe thead th {\n",
       "        text-align: right;\n",
       "    }\n",
       "</style>\n",
       "<table border=\"1\" class=\"dataframe\">\n",
       "  <thead>\n",
       "    <tr style=\"text-align: right;\">\n",
       "      <th></th>\n",
       "      <th>InvoiceNo</th>\n",
       "      <th>StockCode</th>\n",
       "      <th>Description</th>\n",
       "      <th>Quantity</th>\n",
       "      <th>InvoiceDate</th>\n",
       "      <th>UnitPrice</th>\n",
       "      <th>CustomerID</th>\n",
       "      <th>Country</th>\n",
       "    </tr>\n",
       "  </thead>\n",
       "  <tbody>\n",
       "    <tr>\n",
       "      <td>615</td>\n",
       "      <td>536412</td>\n",
       "      <td>85184C</td>\n",
       "      <td>S/4 VALENTINE DECOUPAGE HEART BOX</td>\n",
       "      <td>1</td>\n",
       "      <td>2010-12-01 11:49:00</td>\n",
       "      <td>2.95</td>\n",
       "      <td>17920.0</td>\n",
       "      <td>United Kingdom</td>\n",
       "    </tr>\n",
       "    <tr>\n",
       "      <td>616</td>\n",
       "      <td>536412</td>\n",
       "      <td>21708</td>\n",
       "      <td>FOLDING UMBRELLA CREAM POLKADOT</td>\n",
       "      <td>1</td>\n",
       "      <td>2010-12-01 11:49:00</td>\n",
       "      <td>4.95</td>\n",
       "      <td>17920.0</td>\n",
       "      <td>United Kingdom</td>\n",
       "    </tr>\n",
       "    <tr>\n",
       "      <td>617</td>\n",
       "      <td>536412</td>\n",
       "      <td>22900</td>\n",
       "      <td>SET 2 TEA TOWELS I LOVE LONDON</td>\n",
       "      <td>2</td>\n",
       "      <td>2010-12-01 11:49:00</td>\n",
       "      <td>2.95</td>\n",
       "      <td>17920.0</td>\n",
       "      <td>United Kingdom</td>\n",
       "    </tr>\n",
       "    <tr>\n",
       "      <td>618</td>\n",
       "      <td>536412</td>\n",
       "      <td>21706</td>\n",
       "      <td>FOLDING UMBRELLA RED/WHITE POLKADOT</td>\n",
       "      <td>1</td>\n",
       "      <td>2010-12-01 11:49:00</td>\n",
       "      <td>4.95</td>\n",
       "      <td>17920.0</td>\n",
       "      <td>United Kingdom</td>\n",
       "    </tr>\n",
       "    <tr>\n",
       "      <td>619</td>\n",
       "      <td>536412</td>\n",
       "      <td>22988</td>\n",
       "      <td>SOLDIERS EGG CUP</td>\n",
       "      <td>6</td>\n",
       "      <td>2010-12-01 11:49:00</td>\n",
       "      <td>1.25</td>\n",
       "      <td>17920.0</td>\n",
       "      <td>United Kingdom</td>\n",
       "    </tr>\n",
       "    <tr>\n",
       "      <td>620</td>\n",
       "      <td>536412</td>\n",
       "      <td>85184C</td>\n",
       "      <td>S/4 VALENTINE DECOUPAGE HEART BOX</td>\n",
       "      <td>1</td>\n",
       "      <td>2010-12-01 11:49:00</td>\n",
       "      <td>2.95</td>\n",
       "      <td>17920.0</td>\n",
       "      <td>United Kingdom</td>\n",
       "    </tr>\n",
       "    <tr>\n",
       "      <td>621</td>\n",
       "      <td>536412</td>\n",
       "      <td>20750</td>\n",
       "      <td>RED RETROSPOT MINI CASES</td>\n",
       "      <td>1</td>\n",
       "      <td>2010-12-01 11:49:00</td>\n",
       "      <td>7.95</td>\n",
       "      <td>17920.0</td>\n",
       "      <td>United Kingdom</td>\n",
       "    </tr>\n",
       "  </tbody>\n",
       "</table>\n",
       "</div>"
      ],
      "text/plain": [
       "    InvoiceNo StockCode                          Description  Quantity  \\\n",
       "615    536412    85184C    S/4 VALENTINE DECOUPAGE HEART BOX         1   \n",
       "616    536412     21708      FOLDING UMBRELLA CREAM POLKADOT         1   \n",
       "617    536412     22900      SET 2 TEA TOWELS I LOVE LONDON          2   \n",
       "618    536412     21706  FOLDING UMBRELLA RED/WHITE POLKADOT         1   \n",
       "619    536412     22988                    SOLDIERS EGG CUP          6   \n",
       "620    536412    85184C    S/4 VALENTINE DECOUPAGE HEART BOX         1   \n",
       "621    536412     20750             RED RETROSPOT MINI CASES         1   \n",
       "\n",
       "            InvoiceDate  UnitPrice  CustomerID         Country  \n",
       "615 2010-12-01 11:49:00       2.95     17920.0  United Kingdom  \n",
       "616 2010-12-01 11:49:00       4.95     17920.0  United Kingdom  \n",
       "617 2010-12-01 11:49:00       2.95     17920.0  United Kingdom  \n",
       "618 2010-12-01 11:49:00       4.95     17920.0  United Kingdom  \n",
       "619 2010-12-01 11:49:00       1.25     17920.0  United Kingdom  \n",
       "620 2010-12-01 11:49:00       2.95     17920.0  United Kingdom  \n",
       "621 2010-12-01 11:49:00       7.95     17920.0  United Kingdom  "
      ]
     },
     "execution_count": 131,
     "metadata": {},
     "output_type": "execute_result"
    }
   ],
   "source": [
    "df.iloc[615:622]"
   ]
  },
  {
   "cell_type": "markdown",
   "metadata": {},
   "source": [
    "None of these seem to be duplicates, so we're going to leave these here. Update: upon further research it seemed other users have had similar issues with df.duplicates( ), it seems when certain conditions are met with the dataset. "
   ]
  },
  {
   "cell_type": "markdown",
   "metadata": {},
   "source": [
    "## Cancelled Orders"
   ]
  },
  {
   "cell_type": "code",
   "execution_count": 136,
   "metadata": {},
   "outputs": [
    {
     "data": {
      "text/html": [
       "<div>\n",
       "<style scoped>\n",
       "    .dataframe tbody tr th:only-of-type {\n",
       "        vertical-align: middle;\n",
       "    }\n",
       "\n",
       "    .dataframe tbody tr th {\n",
       "        vertical-align: top;\n",
       "    }\n",
       "\n",
       "    .dataframe thead th {\n",
       "        text-align: right;\n",
       "    }\n",
       "</style>\n",
       "<table border=\"1\" class=\"dataframe\">\n",
       "  <thead>\n",
       "    <tr style=\"text-align: right;\">\n",
       "      <th></th>\n",
       "      <th>InvoiceNo</th>\n",
       "      <th>StockCode</th>\n",
       "      <th>Description</th>\n",
       "      <th>Quantity</th>\n",
       "      <th>InvoiceDate</th>\n",
       "      <th>UnitPrice</th>\n",
       "      <th>CustomerID</th>\n",
       "      <th>Country</th>\n",
       "    </tr>\n",
       "  </thead>\n",
       "  <tbody>\n",
       "    <tr>\n",
       "      <td>141</td>\n",
       "      <td>C536379</td>\n",
       "      <td>D</td>\n",
       "      <td>Discount</td>\n",
       "      <td>-1</td>\n",
       "      <td>2010-12-01 09:41:00</td>\n",
       "      <td>27.50</td>\n",
       "      <td>14527.0</td>\n",
       "      <td>United Kingdom</td>\n",
       "    </tr>\n",
       "    <tr>\n",
       "      <td>154</td>\n",
       "      <td>C536383</td>\n",
       "      <td>35004C</td>\n",
       "      <td>SET OF 3 COLOURED  FLYING DUCKS</td>\n",
       "      <td>-1</td>\n",
       "      <td>2010-12-01 09:49:00</td>\n",
       "      <td>4.65</td>\n",
       "      <td>15311.0</td>\n",
       "      <td>United Kingdom</td>\n",
       "    </tr>\n",
       "    <tr>\n",
       "      <td>235</td>\n",
       "      <td>C536391</td>\n",
       "      <td>22556</td>\n",
       "      <td>PLASTERS IN TIN CIRCUS PARADE</td>\n",
       "      <td>-12</td>\n",
       "      <td>2010-12-01 10:24:00</td>\n",
       "      <td>1.65</td>\n",
       "      <td>17548.0</td>\n",
       "      <td>United Kingdom</td>\n",
       "    </tr>\n",
       "    <tr>\n",
       "      <td>236</td>\n",
       "      <td>C536391</td>\n",
       "      <td>21984</td>\n",
       "      <td>PACK OF 12 PINK PAISLEY TISSUES</td>\n",
       "      <td>-24</td>\n",
       "      <td>2010-12-01 10:24:00</td>\n",
       "      <td>0.29</td>\n",
       "      <td>17548.0</td>\n",
       "      <td>United Kingdom</td>\n",
       "    </tr>\n",
       "    <tr>\n",
       "      <td>237</td>\n",
       "      <td>C536391</td>\n",
       "      <td>21983</td>\n",
       "      <td>PACK OF 12 BLUE PAISLEY TISSUES</td>\n",
       "      <td>-24</td>\n",
       "      <td>2010-12-01 10:24:00</td>\n",
       "      <td>0.29</td>\n",
       "      <td>17548.0</td>\n",
       "      <td>United Kingdom</td>\n",
       "    </tr>\n",
       "    <tr>\n",
       "      <td>...</td>\n",
       "      <td>...</td>\n",
       "      <td>...</td>\n",
       "      <td>...</td>\n",
       "      <td>...</td>\n",
       "      <td>...</td>\n",
       "      <td>...</td>\n",
       "      <td>...</td>\n",
       "      <td>...</td>\n",
       "    </tr>\n",
       "    <tr>\n",
       "      <td>540449</td>\n",
       "      <td>C581490</td>\n",
       "      <td>23144</td>\n",
       "      <td>ZINC T-LIGHT HOLDER STARS SMALL</td>\n",
       "      <td>-11</td>\n",
       "      <td>2011-12-09 09:57:00</td>\n",
       "      <td>0.83</td>\n",
       "      <td>14397.0</td>\n",
       "      <td>United Kingdom</td>\n",
       "    </tr>\n",
       "    <tr>\n",
       "      <td>541541</td>\n",
       "      <td>C581499</td>\n",
       "      <td>M</td>\n",
       "      <td>Manual</td>\n",
       "      <td>-1</td>\n",
       "      <td>2011-12-09 10:28:00</td>\n",
       "      <td>224.69</td>\n",
       "      <td>15498.0</td>\n",
       "      <td>United Kingdom</td>\n",
       "    </tr>\n",
       "    <tr>\n",
       "      <td>541715</td>\n",
       "      <td>C581568</td>\n",
       "      <td>21258</td>\n",
       "      <td>VICTORIAN SEWING BOX LARGE</td>\n",
       "      <td>-5</td>\n",
       "      <td>2011-12-09 11:57:00</td>\n",
       "      <td>10.95</td>\n",
       "      <td>15311.0</td>\n",
       "      <td>United Kingdom</td>\n",
       "    </tr>\n",
       "    <tr>\n",
       "      <td>541716</td>\n",
       "      <td>C581569</td>\n",
       "      <td>84978</td>\n",
       "      <td>HANGING HEART JAR T-LIGHT HOLDER</td>\n",
       "      <td>-1</td>\n",
       "      <td>2011-12-09 11:58:00</td>\n",
       "      <td>1.25</td>\n",
       "      <td>17315.0</td>\n",
       "      <td>United Kingdom</td>\n",
       "    </tr>\n",
       "    <tr>\n",
       "      <td>541717</td>\n",
       "      <td>C581569</td>\n",
       "      <td>20979</td>\n",
       "      <td>36 PENCILS TUBE RED RETROSPOT</td>\n",
       "      <td>-5</td>\n",
       "      <td>2011-12-09 11:58:00</td>\n",
       "      <td>1.25</td>\n",
       "      <td>17315.0</td>\n",
       "      <td>United Kingdom</td>\n",
       "    </tr>\n",
       "  </tbody>\n",
       "</table>\n",
       "<p>8905 rows × 8 columns</p>\n",
       "</div>"
      ],
      "text/plain": [
       "       InvoiceNo StockCode                       Description  Quantity  \\\n",
       "141      C536379         D                          Discount        -1   \n",
       "154      C536383    35004C   SET OF 3 COLOURED  FLYING DUCKS        -1   \n",
       "235      C536391     22556    PLASTERS IN TIN CIRCUS PARADE        -12   \n",
       "236      C536391     21984  PACK OF 12 PINK PAISLEY TISSUES        -24   \n",
       "237      C536391     21983  PACK OF 12 BLUE PAISLEY TISSUES        -24   \n",
       "...          ...       ...                               ...       ...   \n",
       "540449   C581490     23144   ZINC T-LIGHT HOLDER STARS SMALL       -11   \n",
       "541541   C581499         M                            Manual        -1   \n",
       "541715   C581568     21258        VICTORIAN SEWING BOX LARGE        -5   \n",
       "541716   C581569     84978  HANGING HEART JAR T-LIGHT HOLDER        -1   \n",
       "541717   C581569     20979     36 PENCILS TUBE RED RETROSPOT        -5   \n",
       "\n",
       "               InvoiceDate  UnitPrice  CustomerID         Country  \n",
       "141    2010-12-01 09:41:00      27.50     14527.0  United Kingdom  \n",
       "154    2010-12-01 09:49:00       4.65     15311.0  United Kingdom  \n",
       "235    2010-12-01 10:24:00       1.65     17548.0  United Kingdom  \n",
       "236    2010-12-01 10:24:00       0.29     17548.0  United Kingdom  \n",
       "237    2010-12-01 10:24:00       0.29     17548.0  United Kingdom  \n",
       "...                    ...        ...         ...             ...  \n",
       "540449 2011-12-09 09:57:00       0.83     14397.0  United Kingdom  \n",
       "541541 2011-12-09 10:28:00     224.69     15498.0  United Kingdom  \n",
       "541715 2011-12-09 11:57:00      10.95     15311.0  United Kingdom  \n",
       "541716 2011-12-09 11:58:00       1.25     17315.0  United Kingdom  \n",
       "541717 2011-12-09 11:58:00       1.25     17315.0  United Kingdom  \n",
       "\n",
       "[8905 rows x 8 columns]"
      ]
     },
     "execution_count": 136,
     "metadata": {},
     "output_type": "execute_result"
    }
   ],
   "source": [
    "df[df.Quantity < 0]"
   ]
  },
  {
   "cell_type": "markdown",
   "metadata": {},
   "source": [
    "It loooks like negative quantity orders have a 'C' before the InvoiceNo. I checked the dataset description, and it turns out these are cancelled orders. So, we would ideally remove the initial orders associated with each one.\n",
    "\n",
    "My initial thought was that I could look up the number after the C, however they don't seem to show up. They do however seem to still be associated with the CustomerID, so for now, I'm going to leave them. We want to include returns a customer makes in the total value they bring to the company, as leaving this out would create a false representation of the customer."
   ]
  },
  {
   "cell_type": "code",
   "execution_count": 141,
   "metadata": {},
   "outputs": [
    {
     "data": {
      "text/html": [
       "<div>\n",
       "<style scoped>\n",
       "    .dataframe tbody tr th:only-of-type {\n",
       "        vertical-align: middle;\n",
       "    }\n",
       "\n",
       "    .dataframe tbody tr th {\n",
       "        vertical-align: top;\n",
       "    }\n",
       "\n",
       "    .dataframe thead th {\n",
       "        text-align: right;\n",
       "    }\n",
       "</style>\n",
       "<table border=\"1\" class=\"dataframe\">\n",
       "  <thead>\n",
       "    <tr style=\"text-align: right;\">\n",
       "      <th></th>\n",
       "      <th>InvoiceNo</th>\n",
       "      <th>StockCode</th>\n",
       "      <th>Description</th>\n",
       "      <th>Quantity</th>\n",
       "      <th>InvoiceDate</th>\n",
       "      <th>UnitPrice</th>\n",
       "      <th>CustomerID</th>\n",
       "      <th>Country</th>\n",
       "    </tr>\n",
       "  </thead>\n",
       "  <tbody>\n",
       "    <tr>\n",
       "      <td>141</td>\n",
       "      <td>C536379</td>\n",
       "      <td>D</td>\n",
       "      <td>Discount</td>\n",
       "      <td>-1</td>\n",
       "      <td>2010-12-01 09:41:00</td>\n",
       "      <td>27.50</td>\n",
       "      <td>14527.0</td>\n",
       "      <td>United Kingdom</td>\n",
       "    </tr>\n",
       "    <tr>\n",
       "      <td>8963</td>\n",
       "      <td>537159</td>\n",
       "      <td>22112</td>\n",
       "      <td>CHOCOLATE HOT WATER BOTTLE</td>\n",
       "      <td>6</td>\n",
       "      <td>2010-12-05 13:17:00</td>\n",
       "      <td>4.95</td>\n",
       "      <td>14527.0</td>\n",
       "      <td>United Kingdom</td>\n",
       "    </tr>\n",
       "    <tr>\n",
       "      <td>8964</td>\n",
       "      <td>537159</td>\n",
       "      <td>22111</td>\n",
       "      <td>SCOTTIE DOG HOT WATER BOTTLE</td>\n",
       "      <td>1</td>\n",
       "      <td>2010-12-05 13:17:00</td>\n",
       "      <td>4.95</td>\n",
       "      <td>14527.0</td>\n",
       "      <td>United Kingdom</td>\n",
       "    </tr>\n",
       "    <tr>\n",
       "      <td>8965</td>\n",
       "      <td>537159</td>\n",
       "      <td>21479</td>\n",
       "      <td>WHITE SKULL HOT WATER BOTTLE</td>\n",
       "      <td>1</td>\n",
       "      <td>2010-12-05 13:17:00</td>\n",
       "      <td>3.75</td>\n",
       "      <td>14527.0</td>\n",
       "      <td>United Kingdom</td>\n",
       "    </tr>\n",
       "    <tr>\n",
       "      <td>8966</td>\n",
       "      <td>537159</td>\n",
       "      <td>22114</td>\n",
       "      <td>HOT WATER BOTTLE TEA AND SYMPATHY</td>\n",
       "      <td>6</td>\n",
       "      <td>2010-12-05 13:17:00</td>\n",
       "      <td>3.95</td>\n",
       "      <td>14527.0</td>\n",
       "      <td>United Kingdom</td>\n",
       "    </tr>\n",
       "    <tr>\n",
       "      <td>...</td>\n",
       "      <td>...</td>\n",
       "      <td>...</td>\n",
       "      <td>...</td>\n",
       "      <td>...</td>\n",
       "      <td>...</td>\n",
       "      <td>...</td>\n",
       "      <td>...</td>\n",
       "      <td>...</td>\n",
       "    </tr>\n",
       "    <tr>\n",
       "      <td>533807</td>\n",
       "      <td>581114</td>\n",
       "      <td>22111</td>\n",
       "      <td>SCOTTIE DOG HOT WATER BOTTLE</td>\n",
       "      <td>1</td>\n",
       "      <td>2011-12-07 12:19:00</td>\n",
       "      <td>4.95</td>\n",
       "      <td>14527.0</td>\n",
       "      <td>United Kingdom</td>\n",
       "    </tr>\n",
       "    <tr>\n",
       "      <td>533808</td>\n",
       "      <td>581114</td>\n",
       "      <td>22835</td>\n",
       "      <td>HOT WATER BOTTLE I AM SO POORLY</td>\n",
       "      <td>2</td>\n",
       "      <td>2011-12-07 12:19:00</td>\n",
       "      <td>4.95</td>\n",
       "      <td>14527.0</td>\n",
       "      <td>United Kingdom</td>\n",
       "    </tr>\n",
       "    <tr>\n",
       "      <td>533809</td>\n",
       "      <td>581114</td>\n",
       "      <td>22114</td>\n",
       "      <td>HOT WATER BOTTLE TEA AND SYMPATHY</td>\n",
       "      <td>6</td>\n",
       "      <td>2011-12-07 12:19:00</td>\n",
       "      <td>4.25</td>\n",
       "      <td>14527.0</td>\n",
       "      <td>United Kingdom</td>\n",
       "    </tr>\n",
       "    <tr>\n",
       "      <td>533810</td>\n",
       "      <td>581114</td>\n",
       "      <td>21479</td>\n",
       "      <td>WHITE SKULL HOT WATER BOTTLE</td>\n",
       "      <td>2</td>\n",
       "      <td>2011-12-07 12:19:00</td>\n",
       "      <td>4.25</td>\n",
       "      <td>14527.0</td>\n",
       "      <td>United Kingdom</td>\n",
       "    </tr>\n",
       "    <tr>\n",
       "      <td>533811</td>\n",
       "      <td>581114</td>\n",
       "      <td>22112</td>\n",
       "      <td>CHOCOLATE HOT WATER BOTTLE</td>\n",
       "      <td>3</td>\n",
       "      <td>2011-12-07 12:19:00</td>\n",
       "      <td>4.95</td>\n",
       "      <td>14527.0</td>\n",
       "      <td>United Kingdom</td>\n",
       "    </tr>\n",
       "  </tbody>\n",
       "</table>\n",
       "<p>1011 rows × 8 columns</p>\n",
       "</div>"
      ],
      "text/plain": [
       "       InvoiceNo StockCode                        Description  Quantity  \\\n",
       "141      C536379         D                           Discount        -1   \n",
       "8963      537159     22112         CHOCOLATE HOT WATER BOTTLE         6   \n",
       "8964      537159     22111       SCOTTIE DOG HOT WATER BOTTLE         1   \n",
       "8965      537159     21479      WHITE SKULL HOT WATER BOTTLE          1   \n",
       "8966      537159     22114  HOT WATER BOTTLE TEA AND SYMPATHY         6   \n",
       "...          ...       ...                                ...       ...   \n",
       "533807    581114     22111       SCOTTIE DOG HOT WATER BOTTLE         1   \n",
       "533808    581114     22835    HOT WATER BOTTLE I AM SO POORLY         2   \n",
       "533809    581114     22114  HOT WATER BOTTLE TEA AND SYMPATHY         6   \n",
       "533810    581114     21479      WHITE SKULL HOT WATER BOTTLE          2   \n",
       "533811    581114     22112         CHOCOLATE HOT WATER BOTTLE         3   \n",
       "\n",
       "               InvoiceDate  UnitPrice  CustomerID         Country  \n",
       "141    2010-12-01 09:41:00      27.50     14527.0  United Kingdom  \n",
       "8963   2010-12-05 13:17:00       4.95     14527.0  United Kingdom  \n",
       "8964   2010-12-05 13:17:00       4.95     14527.0  United Kingdom  \n",
       "8965   2010-12-05 13:17:00       3.75     14527.0  United Kingdom  \n",
       "8966   2010-12-05 13:17:00       3.95     14527.0  United Kingdom  \n",
       "...                    ...        ...         ...             ...  \n",
       "533807 2011-12-07 12:19:00       4.95     14527.0  United Kingdom  \n",
       "533808 2011-12-07 12:19:00       4.95     14527.0  United Kingdom  \n",
       "533809 2011-12-07 12:19:00       4.25     14527.0  United Kingdom  \n",
       "533810 2011-12-07 12:19:00       4.25     14527.0  United Kingdom  \n",
       "533811 2011-12-07 12:19:00       4.95     14527.0  United Kingdom  \n",
       "\n",
       "[1011 rows x 8 columns]"
      ]
     },
     "execution_count": 141,
     "metadata": {},
     "output_type": "execute_result"
    }
   ],
   "source": [
    "df[df.CustomerID == 14527]"
   ]
  },
  {
   "cell_type": "markdown",
   "metadata": {},
   "source": [
    "We can see this customer has made many orders, and has a discount given. We want to include all purchases, cancelled orders and discounts so we can get a full and accurate picture of each customer. "
   ]
  },
  {
   "cell_type": "markdown",
   "metadata": {},
   "source": [
    "## RMF Variables\n",
    "\n",
    "Now that we've cleaned our data, we're going to add in Recency, Frequency and Monetary Value."
   ]
  },
  {
   "cell_type": "markdown",
   "metadata": {},
   "source": [
    "## Summary Statistics"
   ]
  },
  {
   "cell_type": "code",
   "execution_count": 125,
   "metadata": {},
   "outputs": [
    {
     "data": {
      "text/html": [
       "<div>\n",
       "<style scoped>\n",
       "    .dataframe tbody tr th:only-of-type {\n",
       "        vertical-align: middle;\n",
       "    }\n",
       "\n",
       "    .dataframe tbody tr th {\n",
       "        vertical-align: top;\n",
       "    }\n",
       "\n",
       "    .dataframe thead th {\n",
       "        text-align: right;\n",
       "    }\n",
       "</style>\n",
       "<table border=\"1\" class=\"dataframe\">\n",
       "  <thead>\n",
       "    <tr style=\"text-align: right;\">\n",
       "      <th></th>\n",
       "      <th>Quantity</th>\n",
       "      <th>UnitPrice</th>\n",
       "      <th>CustomerID</th>\n",
       "    </tr>\n",
       "  </thead>\n",
       "  <tbody>\n",
       "    <tr>\n",
       "      <td>count</td>\n",
       "      <td>406829.00</td>\n",
       "      <td>406829.00</td>\n",
       "      <td>406829.00</td>\n",
       "    </tr>\n",
       "    <tr>\n",
       "      <td>mean</td>\n",
       "      <td>12.06</td>\n",
       "      <td>3.46</td>\n",
       "      <td>15287.69</td>\n",
       "    </tr>\n",
       "    <tr>\n",
       "      <td>std</td>\n",
       "      <td>248.69</td>\n",
       "      <td>69.32</td>\n",
       "      <td>1713.60</td>\n",
       "    </tr>\n",
       "    <tr>\n",
       "      <td>min</td>\n",
       "      <td>-80995.00</td>\n",
       "      <td>0.00</td>\n",
       "      <td>12346.00</td>\n",
       "    </tr>\n",
       "    <tr>\n",
       "      <td>25%</td>\n",
       "      <td>2.00</td>\n",
       "      <td>1.25</td>\n",
       "      <td>13953.00</td>\n",
       "    </tr>\n",
       "    <tr>\n",
       "      <td>50%</td>\n",
       "      <td>5.00</td>\n",
       "      <td>1.95</td>\n",
       "      <td>15152.00</td>\n",
       "    </tr>\n",
       "    <tr>\n",
       "      <td>75%</td>\n",
       "      <td>12.00</td>\n",
       "      <td>3.75</td>\n",
       "      <td>16791.00</td>\n",
       "    </tr>\n",
       "    <tr>\n",
       "      <td>max</td>\n",
       "      <td>80995.00</td>\n",
       "      <td>38970.00</td>\n",
       "      <td>18287.00</td>\n",
       "    </tr>\n",
       "  </tbody>\n",
       "</table>\n",
       "</div>"
      ],
      "text/plain": [
       "        Quantity  UnitPrice  CustomerID\n",
       "count  406829.00  406829.00   406829.00\n",
       "mean       12.06       3.46    15287.69\n",
       "std       248.69      69.32     1713.60\n",
       "min    -80995.00       0.00    12346.00\n",
       "25%         2.00       1.25    13953.00\n",
       "50%         5.00       1.95    15152.00\n",
       "75%        12.00       3.75    16791.00\n",
       "max     80995.00   38970.00    18287.00"
      ]
     },
     "execution_count": 125,
     "metadata": {},
     "output_type": "execute_result"
    }
   ],
   "source": [
    "# Summary statistics\n",
    "\n",
    "df.describe().round(2)"
   ]
  },
  {
   "cell_type": "markdown",
   "metadata": {},
   "source": [
    "## Add TotalPrice Column"
   ]
  },
  {
   "cell_type": "code",
   "execution_count": null,
   "metadata": {},
   "outputs": [],
   "source": [
    "df['TotalPrice'] = df['Quantity'] * df['UnitPrice']"
   ]
  },
  {
   "cell_type": "code",
   "execution_count": null,
   "metadata": {},
   "outputs": [],
   "source": [
    "df.describe().round(2)"
   ]
  },
  {
   "cell_type": "markdown",
   "metadata": {},
   "source": [
    "**Explore this further. Are these isolated events of extremely high Quantity ordered and then returned?**"
   ]
  },
  {
   "cell_type": "code",
   "execution_count": null,
   "metadata": {},
   "outputs": [],
   "source": [
    "df.TotalPrice.hist();"
   ]
  },
  {
   "cell_type": "markdown",
   "metadata": {},
   "source": [
    "## Remove Outliers"
   ]
  },
  {
   "cell_type": "markdown",
   "metadata": {},
   "source": [
    "It looks like there are some major outliers in our dataset. Let's remove them. "
   ]
  },
  {
   "cell_type": "code",
   "execution_count": null,
   "metadata": {},
   "outputs": [],
   "source": [
    "# Percentiles for Quantity\n",
    "\n",
    "# Define percentiles\n",
    "percentiles = [0,2.5,97.5,100]\n",
    "\n",
    "# Print them out\n",
    "for i in percentiles:\n",
    "    q = i/100\n",
    "    print(\"{} percentile Quantity: {}\".format(q, df.Quantity.quantile(q=q)))\n",
    "    \n",
    "# Percentiles for UnitPrice\n",
    "\n",
    "# Print them out\n",
    "for i in percentiles:\n",
    "    q = i/100\n",
    "    print(\"{} percentile UnitPrice: {}\".format(q, df.UnitPrice.quantile(q=q)))\n",
    "    \n",
    "# Percentiles for TotalPrice\n",
    "\n",
    "# Print them out\n",
    "for i in percentiles:\n",
    "    q = i/100\n",
    "    print(\"{} percentile TotalPrice: {}\".format(q, df.TotalPrice.quantile(q=q)))"
   ]
  },
  {
   "cell_type": "markdown",
   "metadata": {},
   "source": [
    "I'm going to remove what may be returns or negative **Quantity** values as the lower 1% is -2.0 and the lower 2.5% was 1.0. We also removed all of the negative UnitPrice values when we removed the Null **CustomerID** values. \n",
    "\n",
    "We're also going to set the **UnitPrice** lower limit to be any value greater than 0.0 as this means it has any price. The minimum value being 0.001. "
   ]
  },
  {
   "cell_type": "code",
   "execution_count": null,
   "metadata": {},
   "outputs": [],
   "source": [
    "# Remove extreme outliers in the lower and upper 1%\n",
    "\n",
    "# Get original length to see percent removed\n",
    "orig_tot = len(df)\n",
    "\n",
    "# Subset to remove extreme outliers\n",
    "# Quantity\n",
    "df = df[(df.Quantity > 0.0) & (df.Quantity <= 120.0)] \n",
    "# UnitPrice lot\n",
    "df = df[(df.UnitPrice > 0.0) & (df.UnitPrice <= 15.0)]\n",
    "\n",
    "# Calculate percent removed\n",
    "print('Percent removed:', (orig_tot -len(df))/orig_tot)"
   ]
  },
  {
   "cell_type": "markdown",
   "metadata": {},
   "source": [
    "We saw how removing the rows with Null **CustomerIDs** also removed the negative **UnitPrices**, I'm wondering if it would be best to remove the rows with negative Quantity value as well. We can see here with the 1% being -2.0, the 2% being -1.0 and the 2.5% being 1.0. \n",
    "\n",
    "I will keep it standard for now with percentiles, however it ma"
   ]
  },
  {
   "cell_type": "markdown",
   "metadata": {},
   "source": [
    "It seems returns are extremely rare, which we can see with the **Quantity** 0.01 percentile being -2.0. I'm wondering if returns should be removed alltogether since they are rare, or if there are certain segments of customers who are more prone to returns."
   ]
  },
  {
   "cell_type": "code",
   "execution_count": null,
   "metadata": {},
   "outputs": [],
   "source": [
    "sns.boxplot(df.Quantity)\n",
    "plt.show()\n",
    "\n",
    "sns.boxplot(df.UnitPrice)\n",
    "plt.show()\n",
    "\n",
    "sns.boxplot(df.TotalPrice)\n",
    "plt.show()"
   ]
  },
  {
   "cell_type": "code",
   "execution_count": null,
   "metadata": {},
   "outputs": [],
   "source": [
    "sns.distplot(df.Quantity)\n",
    "plt.show()\n",
    "sns.distplot(df.UnitPrice)\n",
    "plt.show()"
   ]
  },
  {
   "cell_type": "markdown",
   "metadata": {},
   "source": [
    "It seems that removing the Null **CustomerID** data also removed all of the negative **UnitPrice** values. \n",
    "\n",
    "We can see visually there are some major outliers. With this data set it's easy to visually see the outliers, so I could remove them that way, however I'm going to remove them by removing the upper and lower percentiles. "
   ]
  },
  {
   "cell_type": "code",
   "execution_count": null,
   "metadata": {},
   "outputs": [],
   "source": [
    "df[['Quantity','UnitPrice','TotalPrice']]"
   ]
  },
  {
   "cell_type": "code",
   "execution_count": null,
   "metadata": {},
   "outputs": [],
   "source": [
    "# Pairplot\n",
    "sns.pairplot(df[['Quantity','UnitPrice','TotalPrice']]);"
   ]
  },
  {
   "cell_type": "markdown",
   "metadata": {},
   "source": [
    "We can see there appears to be a clear linear relationship between **TotalPrice** and **Quantity** and **TotalPrice** and **UnitPrice**, with no apparent relationship between **UnitPrice** and **Quantity**. This intuitively makes sense as **TotalPrice** is calculated as **Quantity * UnitPrice**. \n",
    "\n",
    "We could also take a look at a correlation matrix."
   ]
  },
  {
   "cell_type": "code",
   "execution_count": null,
   "metadata": {},
   "outputs": [],
   "source": [
    "# Correlation matrix\n",
    "\n",
    "df[['Quantity','UnitPrice','TotalPrice']].corr().round(2)"
   ]
  },
  {
   "cell_type": "markdown",
   "metadata": {},
   "source": [
    "Interesting that there is actually a weak correlation between **UnitPrice** and **TotalPrice** and a weak yet stronger than the former correlation between **UnitPrice** and **Quantity**. "
   ]
  },
  {
   "cell_type": "markdown",
   "metadata": {},
   "source": [
    "Let's take a look at the **Country** data. "
   ]
  },
  {
   "cell_type": "code",
   "execution_count": null,
   "metadata": {},
   "outputs": [],
   "source": [
    "# Number of unique invoices\n",
    "len(df.InvoiceNo.unique())"
   ]
  },
  {
   "cell_type": "code",
   "execution_count": null,
   "metadata": {},
   "outputs": [],
   "source": [
    "# Number of unique invoices per country\n",
    "df.groupby(['Country'])['InvoiceNo'].nunique().sort_values(ascending=False)"
   ]
  },
  {
   "cell_type": "markdown",
   "metadata": {},
   "source": [
    "We can see most of the purchases are from the **United Kingdom**. We could model the UK exclusively, however since this is from an online retailer, I'm interested to see if there are similar groups across countries. \n",
    "\n",
    "We can always come back and model for the top country or countries (in terms of orders) if we find the model works better that way. \n",
    "\n",
    "On that note, I'm curious to see what types of items these customers are purchasing online. Let's take a look at the **Descriptions**."
   ]
  },
  {
   "cell_type": "code",
   "execution_count": null,
   "metadata": {},
   "outputs": [],
   "source": [
    "df.Description.value_counts(ascending=False)[0:20]"
   ]
  },
  {
   "cell_type": "code",
   "execution_count": null,
   "metadata": {},
   "outputs": [],
   "source": [
    "len(df.Description.unique())"
   ]
  },
  {
   "cell_type": "markdown",
   "metadata": {},
   "source": [
    "There are 3,833 unique descriptions. \n",
    "\n",
    "We can see there are a lot of lunch bags. I'm curious if it would be worth creating a category. Like **Description** = 'LUNCH BAG' then a different field with the specific type, or remove it alltogether. \n",
    "\n",
    "This wouldn't be as important for an RMF analysis with segmentation. However, for segmentation looking also at types of items purchased, this information would be valuable. \n",
    "\n",
    "Let's explore potential categories a bit more. "
   ]
  },
  {
   "cell_type": "code",
   "execution_count": null,
   "metadata": {},
   "outputs": [],
   "source": [
    "df[df.Description.str.contains('LUNCH BAG') == True]"
   ]
  },
  {
   "cell_type": "markdown",
   "metadata": {},
   "source": [
    "Lot's of lunch bag purchases. "
   ]
  },
  {
   "cell_type": "code",
   "execution_count": null,
   "metadata": {},
   "outputs": [],
   "source": [
    "df[df.Description.str.contains('LUNCH BAG') == True].Description.value_counts()"
   ]
  },
  {
   "cell_type": "markdown",
   "metadata": {},
   "source": [
    "It looks like 'VINTAGE DOILEY' is meant to be 'VINTAGE DOILY'. I can correct that here "
   ]
  },
  {
   "cell_type": "code",
   "execution_count": null,
   "metadata": {},
   "outputs": [],
   "source": [
    "# Rename to match category\n",
    "df.Description[df.Description == 'LUNCH BAG VINTAGE DOILEY '] = 'LUNCH BAG VINTAGE DOILY '"
   ]
  },
  {
   "cell_type": "markdown",
   "metadata": {},
   "source": [
    "One customer purchased 40! I wonder what these are for. Businesses, parties, special events? "
   ]
  },
  {
   "cell_type": "code",
   "execution_count": null,
   "metadata": {},
   "outputs": [],
   "source": [
    "df[df.Description.str.contains('LUNCH BAG') == True].Description.value_counts()"
   ]
  },
  {
   "cell_type": "markdown",
   "metadata": {},
   "source": [
    "Perfect! We can see the 4 rows have been added. \n",
    "\n",
    "We can see there are more DOILY/DOILEY categories. I imagine these could all be combined. Let's keep looking and see what other products we have. "
   ]
  },
  {
   "cell_type": "code",
   "execution_count": null,
   "metadata": {},
   "outputs": [],
   "source": [
    "df[df.Description.str.contains('LUNCH BAG') != True]"
   ]
  },
  {
   "cell_type": "code",
   "execution_count": null,
   "metadata": {},
   "outputs": [],
   "source": [
    "# Category of 'CHILDRENS CUTLERY'\n",
    "df[df.Description.str.contains('CHILDRENS CUTLERY') == True]"
   ]
  },
  {
   "cell_type": "code",
   "execution_count": null,
   "metadata": {},
   "outputs": [],
   "source": [
    "# Line called 'CIRCUS PARADE'\n",
    "df[df.Description.str.contains('CIRCUS PARADE') == True]"
   ]
  },
  {
   "cell_type": "markdown",
   "metadata": {},
   "source": [
    "We can see there are categories of the descriptions and also lines it appears. For example 'SPACE BOY', 'DOLLY GIRL', 'CIRCUS PARADE', etc. across multiple categories such as 'CHILDRENS CUTLERY', 'NAPKINS', 'APRON's and more. "
   ]
  },
  {
   "cell_type": "code",
   "execution_count": null,
   "metadata": {},
   "outputs": [],
   "source": [
    "df.Description[df.Description.str.contains('CIRCUS PARADE') == True].value_counts()"
   ]
  },
  {
   "cell_type": "code",
   "execution_count": null,
   "metadata": {},
   "outputs": [],
   "source": [
    "df.Description[df.Description.str.contains('PLASTERS IN TIN') == True].value_counts()"
   ]
  },
  {
   "cell_type": "code",
   "execution_count": null,
   "metadata": {},
   "outputs": [],
   "source": [
    "df.Description[df.Description.str.contains('LUNCH BOX') == True].value_counts()"
   ]
  },
  {
   "cell_type": "code",
   "execution_count": null,
   "metadata": {},
   "outputs": [],
   "source": [
    "df.Description[df.Description.str.contains('NAPKINS') == True].value_counts()"
   ]
  },
  {
   "cell_type": "code",
   "execution_count": null,
   "metadata": {},
   "outputs": [],
   "source": [
    "df.Description[df.Description.str.contains('FAIRY CAKES') == True].value_counts()"
   ]
  },
  {
   "cell_type": "code",
   "execution_count": null,
   "metadata": {},
   "outputs": [],
   "source": [
    "df.Description[df.Description.str.contains('NOTEBOOK') == True].value_counts()"
   ]
  },
  {
   "cell_type": "code",
   "execution_count": null,
   "metadata": {},
   "outputs": [],
   "source": [
    "df.Description[df.Description.str.contains('BABUSHKA') == True].value_counts()"
   ]
  },
  {
   "cell_type": "code",
   "execution_count": null,
   "metadata": {},
   "outputs": [],
   "source": [
    "df.Description[df.Description.str.contains('HOT WATER BOTTLE') == True].value_counts()"
   ]
  },
  {
   "cell_type": "code",
   "execution_count": null,
   "metadata": {},
   "outputs": [],
   "source": [
    "df.Description[df.Description.str.contains('CHARLIE','LOLA') == True].value_counts()"
   ]
  },
  {
   "cell_type": "markdown",
   "metadata": {},
   "source": [
    "As we can see there are numerous different categories and lines of products. These could be broken down into categories and even colors for deeper insights and analyses. This would be a project in itself. For now I will continue to conduct an RMF analysis. However, for future work I believe it would be valuable to find groups of buyers based also on the types of categories they purchases. "
   ]
  },
  {
   "cell_type": "markdown",
   "metadata": {},
   "source": [
    "# Future Work\n",
    "\n",
    "We can see there are many categories of products, such as napkins, aprons, notebooks, water bottles, lunch bags, etc. And across those categories there are many different lines of products, such as 'SPACE BOY', 'DOLLY GIRL', 'CIRCUS PARADE', 'CHARLIE + LOLA', and even 'BABUSHKA'. \n",
    "\n",
    "Greater insights could be attained by adding categories and lines. This could support more targeted advertising directly to its current customers, which would increase customer experience, engagement and revenue. It could also support targeted digital advertising such as Facebook and Google Ads. \n",
    "\n",
    "It the retailer doesn't already have it in place, they could add a recommendation system to increase price per transaction, revenue and customer lifetime values. "
   ]
  },
  {
   "cell_type": "code",
   "execution_count": null,
   "metadata": {},
   "outputs": [],
   "source": []
  }
 ],
 "metadata": {
  "kernelspec": {
   "display_name": "Python [conda env:learn-env] *",
   "language": "python",
   "name": "conda-env-learn-env-py"
  },
  "language_info": {
   "codemirror_mode": {
    "name": "ipython",
    "version": 3
   },
   "file_extension": ".py",
   "mimetype": "text/x-python",
   "name": "python",
   "nbconvert_exporter": "python",
   "pygments_lexer": "ipython3",
   "version": "3.6.9"
  },
  "toc": {
   "base_numbering": 1,
   "nav_menu": {},
   "number_sections": true,
   "sideBar": true,
   "skip_h1_title": false,
   "title_cell": "Table of Contents",
   "title_sidebar": "Contents",
   "toc_cell": true,
   "toc_position": {},
   "toc_section_display": true,
   "toc_window_display": false
  }
 },
 "nbformat": 4,
 "nbformat_minor": 2
}
